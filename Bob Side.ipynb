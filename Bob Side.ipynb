{
 "cells": [
  {
   "cell_type": "code",
   "execution_count": 2,
   "id": "069a395d",
   "metadata": {},
   "outputs": [],
   "source": [
    "import socket\n",
    "\n",
    "def send_public_paramters_to_Alice(parameter):\n",
    "    server_socket = socket.socket(socket.AF_INET, socket.SOCK_STREAM)\n",
    "    server_address = ('localhost', 12345)\n",
    "    server_socket.bind(server_address)\n",
    "    server_socket.listen(1)\n",
    "\n",
    "    print('Waiting for a connection...')\n",
    "\n",
    "    client_socket, client_address = server_socket.accept()\n",
    "    print('Connected by', client_address)\n",
    "\n",
    "    # Send an integer to the client\n",
    "    \n",
    "    client_socket.sendall(str(parameter).encode('utf-8'))\n",
    "    client_socket.close()\n",
    "    server_socket.close()\n",
    "def read_Aliced_public_key():\n",
    "    client_socket = socket.socket(socket.AF_INET, socket.SOCK_STREAM)\n",
    "    server_address = ('localhost', 1111)\n",
    "    client_socket.connect(server_address)\n",
    "\n",
    "    # Receive data from the server\n",
    "    data = client_socket.recv(1024)\n",
    "    received_integer = int(data.decode('utf-8'))\n",
    "    print('Received integer:', received_integer)\n",
    "    client_socket.close()\n",
    "    return received_integer\n",
    "\n",
    "    \n"
   ]
  },
  {
   "cell_type": "code",
   "execution_count": 5,
   "id": "56878836",
   "metadata": {},
   "outputs": [
    {
     "data": {
      "text/plain": [
       "2050"
      ]
     },
     "execution_count": 5,
     "metadata": {},
     "output_type": "execute_result"
    }
   ],
   "source": [
    "from sympy import randprime\n",
    "\n",
    "def count_digits(number):\n",
    "    # Convert the number to a string and calculate its length\n",
    "    num_str = str(number)\n",
    "    num_digits = len(num_str)\n",
    "    return num_digits\n",
    "\n",
    "# Choose a large prime 'p'\n",
    "\n",
    "p = randprime(2**1024, 2**2048)\n",
    "\n",
    "from random import randint\n",
    "g=randint(2,p-2)\n",
    "\n",
    "bin_p=bin(p)\n",
    "count_digits(bin_p)"
   ]
  },
  {
   "cell_type": "code",
   "execution_count": 6,
   "id": "17b83aa6",
   "metadata": {},
   "outputs": [
    {
     "name": "stdout",
     "output_type": "stream",
     "text": [
      " is probably a prime number.\n"
     ]
    }
   ],
   "source": [
    "import random\n",
    "#Miller-Rabin test\n",
    "def is_probably_prime(n, k):\n",
    "    if n <= 1:\n",
    "        return False\n",
    "    if n == 2 or n == 3:\n",
    "        return True\n",
    "    if n % 2 == 0:\n",
    "        return False\n",
    "\n",
    "    # Write n as 2^r * d + 1\n",
    "    r, d = 0, n - 1\n",
    "    while d % 2 == 0:\n",
    "        r += 1\n",
    "        d //= 2\n",
    "\n",
    "    # Witness loop\n",
    "    for _ in range(k):\n",
    "        a = random.randint(2, n - 2)\n",
    "        x = pow(a, d, n)\n",
    "\n",
    "        if x == 1 or x == n - 1:\n",
    "            continue\n",
    "\n",
    "        for _ in range(r - 1):\n",
    "            x = pow(x, 2, n)\n",
    "            if x == n - 1:\n",
    "                break\n",
    "        else:\n",
    "            return False\n",
    "\n",
    "    return True\n",
    "rounds_of_testing = 5\n",
    "if is_probably_prime(p, rounds_of_testing):\n",
    "  print(\" is probably a prime number.\")\n",
    "else:\n",
    "  print(\" is composite.\")"
   ]
  },
  {
   "cell_type": "code",
   "execution_count": 7,
   "id": "50fe41e0",
   "metadata": {},
   "outputs": [
    {
     "name": "stdout",
     "output_type": "stream",
     "text": [
      "Waiting for a connection...\n",
      "Connected by ('127.0.0.1', 55175)\n"
     ]
    }
   ],
   "source": [
    "send_public_paramters_to_Alice(p)"
   ]
  },
  {
   "cell_type": "code",
   "execution_count": 9,
   "id": "dfecb2ce",
   "metadata": {},
   "outputs": [],
   "source": [
    "from random import randint\n",
    "g=randint(2,p-2)\n"
   ]
  },
  {
   "cell_type": "code",
   "execution_count": 11,
   "id": "a0fa6dd3",
   "metadata": {},
   "outputs": [
    {
     "name": "stdout",
     "output_type": "stream",
     "text": [
      "Waiting for a connection...\n",
      "Connected by ('127.0.0.1', 55229)\n"
     ]
    }
   ],
   "source": [
    "send_public_paramters_to_Alice(g)"
   ]
  },
  {
   "cell_type": "code",
   "execution_count": 12,
   "id": "395ce4ee",
   "metadata": {},
   "outputs": [
    {
     "name": "stdout",
     "output_type": "stream",
     "text": [
      "Bob_Private_key:\n",
      " 8460805340771535096058292169395124757676517656266851978828809539351014095113222904824844508886686710616611425243387915966023988787028129475880296167267918680388962597173620179091926184276506618475033817377149773498314405646819947088830866188665766867989462326155917521995574626145375250619590342225395071393860878762626603630358909962385101352510461797556348661223148043935874620853706379024516154988120510840704203444832653627409634519365382452451540305246532811022755872565344708420966764036450703131282512639410580599714606282653662889935052265046249038356889099608121765953872234994084548857389230995948580383732\n"
     ]
    }
   ],
   "source": [
    "\n",
    "Bob_private_key = randint(2, p - 2)\n",
    "print(\"Bob_Private_key:\\n\",Bob_private_key)"
   ]
  },
  {
   "cell_type": "code",
   "execution_count": 13,
   "id": "653ea449",
   "metadata": {},
   "outputs": [],
   "source": [
    "def mod_exp(base, exponent, modulus):\n",
    "    result = 1\n",
    "    base = base % modulus\n",
    "    while exponent > 0:\n",
    "        if exponent % 2 == 1:\n",
    "            result = (result * base) % modulus\n",
    "        exponent //= 2\n",
    "        base = (base * base) % modulus\n",
    "    return result"
   ]
  },
  {
   "cell_type": "code",
   "execution_count": 14,
   "id": "6acbda2f",
   "metadata": {},
   "outputs": [
    {
     "name": "stdout",
     "output_type": "stream",
     "text": [
      "Bob_Public_key:\n",
      " 2307318120642966431663895199235877783225365729269979662677006727111535525222854121367449550341174836187579056507538792328714007508239526482436191494275110813615815332583991811063098202105034970522270453920300456717388297352062295479014502586860736353310756785886272344052878535340277689769200867391101408830843600993647472708168576212987824871926232147215901213493643187656388330901838317333956730119421081956324006695445649829440322069918931866372561238031833759876524703955313813586775554922568795895346391982007127814923848568476865091698260592587113306538534118837637829286592397006111814798056892865727531998554\n"
     ]
    }
   ],
   "source": [
    "Bob_public_key = mod_exp(g, Bob_private_key, p)\n",
    "print(\"Bob_Public_key:\\n\",Bob_public_key)"
   ]
  },
  {
   "cell_type": "code",
   "execution_count": 15,
   "id": "aad0c62f",
   "metadata": {},
   "outputs": [
    {
     "name": "stdout",
     "output_type": "stream",
     "text": [
      "Waiting for a connection...\n",
      "Connected by ('127.0.0.1', 55272)\n"
     ]
    }
   ],
   "source": [
    "send_public_paramters_to_Alice(Bob_public_key)"
   ]
  },
  {
   "cell_type": "code",
   "execution_count": 16,
   "id": "46634538",
   "metadata": {},
   "outputs": [
    {
     "name": "stdout",
     "output_type": "stream",
     "text": [
      "Received integer: 7129299296205506582106390138532099103738059394779090673931635624853055737933529134852343042931110849691578081400772307541188106543861531361066057363268964163961856907201609159852933802887939546796275142955655800291999368957889672284327496300130049997876429440264766799441229944880255481186975048028909229179335586394091809985414120596359397309200738127576385968398536482653836193017462716150281326093735025175430195687561737333567576282882101496751497737634411055528874652251007376530751136774677645878617342927927064613816639900284373320715455316596220056595767914947397801425951483282714096277225778959887320682132\n"
     ]
    }
   ],
   "source": [
    "Alice_public_key=read_Aliced_public_key()"
   ]
  },
  {
   "cell_type": "code",
   "execution_count": 18,
   "id": "8ec9dd5b",
   "metadata": {},
   "outputs": [
    {
     "name": "stdout",
     "output_type": "stream",
     "text": [
      "The common key calculated by Bob:\n",
      " 5272430107689889097796882842610122745648554468770498663219568113872026188333003156976891029175501913106236541955306563766350079827396832650628506723788137581421519737847006894122314462787409524471745092924827744272669737221005493460648647127975978015324848224050557401217996594479640782598114631839962397856336983935782017444628415724269679739912528520160499286677668549067205662483072170790787336480267053492579547329706096943112809192329777259952470722285790890709063335185949459694744488691851225665518326894656357685888721847145326591059889122456731226181735870141684045998786988139018748063668157906261608528929\n"
     ]
    }
   ],
   "source": [
    "Bob_common_key = mod_exp(Alice_public_key, Bob_private_key, p)\n",
    "print(\"The common key calculated by Bob:\\n\",Bob_common_key)"
   ]
  },
  {
   "cell_type": "code",
   "execution_count": 19,
   "id": "0421a5e9",
   "metadata": {},
   "outputs": [],
   "source": [
    "#convert common key to bytes\n",
    "Bob_common_key_bytes=Bob_common_key.to_bytes(10000, byteorder='big')"
   ]
  },
  {
   "cell_type": "code",
   "execution_count": 20,
   "id": "ab3372b5",
   "metadata": {},
   "outputs": [],
   "source": [
    "import hashlib\n",
    "\n",
    "def derive_key(original_key, output_length=16):\n",
    "    # Use SHA-256 hash function\n",
    "    sha256 = hashlib.sha256()\n",
    "\n",
    "    # Update the hash object with the original key\n",
    "    sha256.update(original_key)\n",
    "\n",
    "    # Get the digest (hash) and truncate it to the desired length\n",
    "    derived_key = sha256.digest()[:output_length]\n",
    "\n",
    "    return derived_key"
   ]
  },
  {
   "cell_type": "code",
   "execution_count": 21,
   "id": "1a5d4f07",
   "metadata": {},
   "outputs": [
    {
     "data": {
      "text/plain": [
       "b'\\x04v5\\xc1~G\\x16B\\x89\\x90E`p\\xf6\\xa0v'"
      ]
     },
     "execution_count": 21,
     "metadata": {},
     "output_type": "execute_result"
    }
   ],
   "source": [
    "#get 16 bytes from common key using hash function\n",
    "\n",
    "Bob_derive_key=derive_key(Bob_common_key_bytes)\n",
    "Bob_derive_key"
   ]
  },
  {
   "cell_type": "code",
   "execution_count": 23,
   "id": "3276c5c3",
   "metadata": {},
   "outputs": [],
   "source": [
    "from cryptography.hazmat.backends import default_backend\n",
    "from cryptography.hazmat.primitives.ciphers import Cipher, algorithms, modes\n",
    "from cryptography.hazmat.primitives import padding\n",
    "from pydub import AudioSegment\n",
    "import os\n",
    "\n",
    "# Set the path to the ffmpeg executable\n",
    "AudioSegment.converter = \"ffmpeg.exe\"\n",
    "\n",
    "def decrypt_audio(input_audio_path, output_audio_path, key):\n",
    "    # Load the encrypted audio file\n",
    "    encrypted_audio = AudioSegment.from_file(input_audio_path)\n",
    "\n",
    "    # Convert audio to raw data (bytearray)\n",
    "    encrypted_data = encrypted_audio.raw_data\n",
    "\n",
    "    # Extract IV from the encrypted data\n",
    "    iv = encrypted_data[:16]\n",
    "    encrypted_data = encrypted_data[16:]\n",
    "\n",
    "    # Create an AES cipher object with the key, mode, and IV\n",
    "    cipher = Cipher(algorithms.AES(key), modes.CFB(iv), backend=default_backend())\n",
    "    decryptor = cipher.decryptor()\n",
    "\n",
    "    # Decrypt the data\n",
    "    decrypted_data = decryptor.update(encrypted_data) + decryptor.finalize()\n",
    "\n",
    "    # Unpad the data\n",
    "    unpadder = padding.PKCS7(algorithms.AES.block_size).unpadder()\n",
    "    audio_data = unpadder.update(decrypted_data) + unpadder.finalize()\n",
    "\n",
    "    # Save the decrypted audio to a new file\n",
    "    decrypted_audio = AudioSegment(audio_data, frame_rate=encrypted_audio.frame_rate, sample_width=encrypted_audio.sample_width, channels=encrypted_audio.channels)\n",
    "    decrypted_audio.export(output_audio_path, format=\"wav\")"
   ]
  },
  {
   "cell_type": "code",
   "execution_count": 24,
   "id": "1eb943d5",
   "metadata": {},
   "outputs": [],
   "source": [
    "encrypted_audio_path = 'encrypted_audio.wav'\n",
    "decrypted_audio_path = 'decrypted_audio.wav'\n",
    "\n",
    "decrypt_audio(encrypted_audio_path, decrypted_audio_path, Bob_derive_key)"
   ]
  },
  {
   "cell_type": "code",
   "execution_count": 25,
   "id": "9f0558de",
   "metadata": {},
   "outputs": [
    {
     "name": "stdout",
     "output_type": "stream",
     "text": [
      "pygame 2.5.2 (SDL 2.28.3, Python 3.11.5)\n",
      "Hello from the pygame community. https://www.pygame.org/contribute.html\n"
     ]
    }
   ],
   "source": [
    "import pygame\n",
    "\n",
    "def play_audio(file_path):\n",
    "    pygame.init()\n",
    "    pygame.mixer.init()\n",
    "\n",
    "    try:\n",
    "        # Load the audio file\n",
    "        pygame.mixer.music.load(file_path)\n",
    "\n",
    "        # Play the audio file\n",
    "        pygame.mixer.music.play()\n",
    "\n",
    "        # Wait for the audio to finish playing\n",
    "        while pygame.mixer.music.get_busy():\n",
    "            pygame.time.Clock().tick(10)\n",
    "\n",
    "    except pygame.error as e:\n",
    "        print(f\"Error playing audio: {e}\")\n",
    "    finally:\n",
    "        # Cleanup\n",
    "        pygame.mixer.quit()\n",
    "        pygame.quit()\n",
    "\n"
   ]
  },
  {
   "cell_type": "code",
   "execution_count": 26,
   "id": "abf7227b",
   "metadata": {},
   "outputs": [],
   "source": [
    "play_audio(\"decrypted_audio.wav\")"
   ]
  },
  {
   "cell_type": "code",
   "execution_count": null,
   "id": "85857aca",
   "metadata": {},
   "outputs": [],
   "source": []
  }
 ],
 "metadata": {
  "kernelspec": {
   "display_name": "Python 3 (ipykernel)",
   "language": "python",
   "name": "python3"
  },
  "language_info": {
   "codemirror_mode": {
    "name": "ipython",
    "version": 3
   },
   "file_extension": ".py",
   "mimetype": "text/x-python",
   "name": "python",
   "nbconvert_exporter": "python",
   "pygments_lexer": "ipython3",
   "version": "3.11.5"
  }
 },
 "nbformat": 4,
 "nbformat_minor": 5
}
