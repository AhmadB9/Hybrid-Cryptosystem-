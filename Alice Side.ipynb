{
 "cells": [
  {
   "cell_type": "code",
   "execution_count": 1,
   "id": "b6279c44",
   "metadata": {},
   "outputs": [],
   "source": [
    "import socket\n",
    "def read_paramters():\n",
    "    client_socket = socket.socket(socket.AF_INET, socket.SOCK_STREAM)\n",
    "    server_address = ('localhost', 12345)\n",
    "    client_socket.connect(server_address)\n",
    "\n",
    "    # Receive data from the server\n",
    "    data = client_socket.recv(1024)\n",
    "    received_integer = int(data.decode('utf-8'))\n",
    "    print('Received integer:', received_integer)\n",
    "    client_socket.close()\n",
    "    return received_integer\n",
    "def send_public_key(public_key):\n",
    "    server_socket = socket.socket(socket.AF_INET, socket.SOCK_STREAM)\n",
    "    server_address = ('localhost',1111)\n",
    "    server_socket.bind(server_address)\n",
    "    server_socket.listen(1)\n",
    "\n",
    "    print('Waiting for a connection...')\n",
    "\n",
    "    client_socket, client_address = server_socket.accept()\n",
    "    print('Connected by', client_address)\n",
    "\n",
    "    # Send an integer to the client\n",
    "    \n",
    "    client_socket.sendall(str(public_key).encode('utf-8'))\n",
    "    client_socket.close()\n",
    "    server_socket.close()\n",
    "    "
   ]
  },
  {
   "cell_type": "code",
   "execution_count": 2,
   "id": "84bb413b",
   "metadata": {},
   "outputs": [
    {
     "name": "stdout",
     "output_type": "stream",
     "text": [
      "Received integer: 24181541446232922176359640334881515440582115395176030149783119793900422742015207110170179019485447177003051104748171105624051375882375080105315909391300108532498040565919047449742837234262613225671308907903078289404729925522625524359794183441459810613114997607671207343289153032600106332149163455867800475798697000172160174420354071206027651384402679666698032519546422159294381966241274915580089630883852507178584043395529780029124678815203328325080892221876535929418008962485138236592458707109806203111278934562939363762867828897915415728243061435880191782935166990369482069854113805604820875528544526870545841242459\n"
     ]
    }
   ],
   "source": [
    "p=read_paramters()"
   ]
  },
  {
   "cell_type": "code",
   "execution_count": 3,
   "id": "9645fa11",
   "metadata": {},
   "outputs": [
    {
     "name": "stdout",
     "output_type": "stream",
     "text": [
      "Received integer: 9127469538228324700865522973167654700200922912762281908149888090931524742022721808148997888153486498990104584132575851208333617120115605119330578385156732386068380640035921372255701104243473053296349940246085498903524590632716596136447598401728673894377330730218626796052665878711442848772966024454916385183667356544353756253105065070714736080169543321113355380543255655828782036032622037498270205462813878258589378800303427897799009803117178185318329394217867245391345142858627930704734802904896740535488099022606255796492995529056968326669080398147147669736964531081465707976178171270628839414790830796330501487275\n"
     ]
    }
   ],
   "source": [
    "g=read_paramters()"
   ]
  },
  {
   "cell_type": "code",
   "execution_count": 4,
   "id": "60d64645",
   "metadata": {},
   "outputs": [
    {
     "name": "stdout",
     "output_type": "stream",
     "text": [
      "Alice_Private_key:\n",
      " 4990488296262106308425889974504778735739222706597079885077035600038662811194058297710043215866031010996625469401538940447004931526366626240349599880096305641548626279728920797420947258511694317643591136812319853655161886560142770793046336346932601644670623795366994107869611346226907454150044847646873231583748467648899509793876932350870687966679936243685536007733178089486487612131265555053477798742324700068848733273731501979841158191211442899788290410327047228910719177467175760930818746247966840854218889131036647655171366039525801602568194938520465749162886611416841200006424541578258211353301283124623866619654\n"
     ]
    }
   ],
   "source": [
    "from random import randint\n",
    "\n",
    "Alice_private_key = randint(2, p - 2)\n",
    "print(\"Alice_Private_key:\\n\",Alice_private_key)"
   ]
  },
  {
   "cell_type": "code",
   "execution_count": 5,
   "id": "1c80ee8f",
   "metadata": {},
   "outputs": [],
   "source": [
    "def mod_exp(base, exponent, modulus):\n",
    "    result = 1\n",
    "    base = base % modulus\n",
    "    while exponent > 0:\n",
    "        if exponent % 2 == 1:\n",
    "            result = (result * base) % modulus\n",
    "        exponent //= 2\n",
    "        base = (base * base) % modulus\n",
    "    return result"
   ]
  },
  {
   "cell_type": "code",
   "execution_count": 6,
   "id": "26de6d76",
   "metadata": {},
   "outputs": [
    {
     "name": "stdout",
     "output_type": "stream",
     "text": [
      "Alice_Public_key:\n",
      " 7129299296205506582106390138532099103738059394779090673931635624853055737933529134852343042931110849691578081400772307541188106543861531361066057363268964163961856907201609159852933802887939546796275142955655800291999368957889672284327496300130049997876429440264766799441229944880255481186975048028909229179335586394091809985414120596359397309200738127576385968398536482653836193017462716150281326093735025175430195687561737333567576282882101496751497737634411055528874652251007376530751136774677645878617342927927064613816639900284373320715455316596220056595767914947397801425951483282714096277225778959887320682132\n"
     ]
    }
   ],
   "source": [
    "Alice_public_key = mod_exp(g, Alice_private_key, p)\n",
    "print(\"Alice_Public_key:\\n\",Alice_public_key)"
   ]
  },
  {
   "cell_type": "code",
   "execution_count": 8,
   "id": "3619602a",
   "metadata": {},
   "outputs": [
    {
     "name": "stdout",
     "output_type": "stream",
     "text": [
      "Waiting for a connection...\n",
      "Connected by ('127.0.0.1', 55280)\n"
     ]
    }
   ],
   "source": [
    "send_public_key(Alice_public_key)"
   ]
  },
  {
   "cell_type": "code",
   "execution_count": 7,
   "id": "628d0cd9",
   "metadata": {},
   "outputs": [
    {
     "name": "stdout",
     "output_type": "stream",
     "text": [
      "Received integer: 2307318120642966431663895199235877783225365729269979662677006727111535525222854121367449550341174836187579056507538792328714007508239526482436191494275110813615815332583991811063098202105034970522270453920300456717388297352062295479014502586860736353310756785886272344052878535340277689769200867391101408830843600993647472708168576212987824871926232147215901213493643187656388330901838317333956730119421081956324006695445649829440322069918931866372561238031833759876524703955313813586775554922568795895346391982007127814923848568476865091698260592587113306538534118837637829286592397006111814798056892865727531998554\n"
     ]
    }
   ],
   "source": [
    "bob_public_key=read_paramters()"
   ]
  },
  {
   "cell_type": "code",
   "execution_count": 9,
   "id": "c03c7287",
   "metadata": {
    "scrolled": true
   },
   "outputs": [
    {
     "name": "stdout",
     "output_type": "stream",
     "text": [
      "The common key calculated by Alice:\n",
      " 5272430107689889097796882842610122745648554468770498663219568113872026188333003156976891029175501913106236541955306563766350079827396832650628506723788137581421519737847006894122314462787409524471745092924827744272669737221005493460648647127975978015324848224050557401217996594479640782598114631839962397856336983935782017444628415724269679739912528520160499286677668549067205662483072170790787336480267053492579547329706096943112809192329777259952470722285790890709063335185949459694744488691851225665518326894656357685888721847145326591059889122456731226181735870141684045998786988139018748063668157906261608528929\n"
     ]
    }
   ],
   "source": [
    "common_key_Alice = mod_exp(bob_public_key, Alice_private_key, p)\n",
    "print(\"The common key calculated by Alice:\\n\",common_key_Alice)"
   ]
  },
  {
   "cell_type": "code",
   "execution_count": 12,
   "id": "41681c6d",
   "metadata": {},
   "outputs": [],
   "source": [
    "#convert common key to bytes\n",
    "common_key_Alice_bytes=common_key_Alice.to_bytes(10000, byteorder='big')\n"
   ]
  },
  {
   "cell_type": "code",
   "execution_count": 13,
   "id": "471be9a4",
   "metadata": {},
   "outputs": [],
   "source": [
    "import hashlib\n",
    "\n",
    "def derive_key(original_key, output_length=16):\n",
    "    # Use SHA-256 hash function\n",
    "    sha256 = hashlib.sha256()\n",
    "\n",
    "    # Update the hash object with the original key\n",
    "    sha256.update(original_key)\n",
    "\n",
    "    # Get the digest (hash) and truncate it to the desired length\n",
    "    derived_key = sha256.digest()[:output_length]\n",
    "\n",
    "    return derived_key"
   ]
  },
  {
   "cell_type": "code",
   "execution_count": 14,
   "id": "96ca3938",
   "metadata": {},
   "outputs": [
    {
     "data": {
      "text/plain": [
       "b'\\x04v5\\xc1~G\\x16B\\x89\\x90E`p\\xf6\\xa0v'"
      ]
     },
     "execution_count": 14,
     "metadata": {},
     "output_type": "execute_result"
    }
   ],
   "source": [
    "#get 16 bytes from common key using hash function\n",
    "\n",
    "derive_key_Alice=derive_key(common_key_Alice_bytes)\n",
    "derive_key_Alice"
   ]
  },
  {
   "cell_type": "code",
   "execution_count": 16,
   "id": "6e043a89",
   "metadata": {},
   "outputs": [],
   "source": [
    "from cryptography.hazmat.backends import default_backend\n",
    "from cryptography.hazmat.primitives.ciphers import Cipher, algorithms, modes\n",
    "from cryptography.hazmat.primitives import padding\n",
    "from pydub import AudioSegment\n",
    "import os\n",
    "\n",
    "# Set the path to the ffmpeg executable\n",
    "AudioSegment.converter = \"ffmpeg.exe\"\n",
    "\n",
    "def encrypt_audio(input_audio_path, output_audio_path, key, commun_key):\n",
    "    # Load the audio file\n",
    "    \n",
    "    audio = AudioSegment.from_file(input_audio_path)\n",
    "\n",
    "    # Convert audio to raw data (bytearray)\n",
    "    audio_data = audio.raw_data\n",
    "\n",
    "    # IV (Initialization Vector) from commun key \n",
    "    iv = commun_key[:16]\n",
    "\n",
    "    # Pad the data using PKCS7 padding\n",
    "    padder = padding.PKCS7(algorithms.AES.block_size).padder()\n",
    "    padded_data = padder.update(audio_data) + padder.finalize()\n",
    "\n",
    "    # Create an AES cipher object with the key, mode, and IV\n",
    "    cipher = Cipher(algorithms.AES(key), modes.CFB(iv), backend=default_backend())\n",
    "    encryptor = cipher.encryptor()\n",
    "\n",
    "    # Encrypt the padded data\n",
    "    encrypted_data = encryptor.update(padded_data) + encryptor.finalize()\n",
    "\n",
    "    # Save the encrypted audio to a new file\n",
    "    encrypted_audio = AudioSegment(encrypted_data, frame_rate=audio.frame_rate, sample_width=audio.sample_width, channels=audio.channels)\n",
    "    encrypted_audio.export(output_audio_path, format=\"wav\")\n"
   ]
  },
  {
   "cell_type": "code",
   "execution_count": 17,
   "id": "ea74edad",
   "metadata": {},
   "outputs": [
    {
     "name": "stdout",
     "output_type": "stream",
     "text": [
      "pygame 2.5.2 (SDL 2.28.3, Python 3.11.5)\n",
      "Hello from the pygame community. https://www.pygame.org/contribute.html\n"
     ]
    }
   ],
   "source": [
    "import pyaudio\n",
    "import wave\n",
    "import pygame\n",
    "\n",
    "\n",
    "def record_audio(file_path, duration=5, sample_rate=44100, channels=1, chunk_size=1024):\n",
    "    p = pyaudio.PyAudio()\n",
    "\n",
    "    stream = p.open(format=pyaudio.paInt16,\n",
    "                    channels=channels,\n",
    "                    rate=sample_rate,\n",
    "                    input=True,\n",
    "                    frames_per_buffer=chunk_size)\n",
    "\n",
    "    print(\"Recording...\")\n",
    "\n",
    "    frames = []\n",
    "\n",
    "    for i in range(0, int(sample_rate / chunk_size * duration)):\n",
    "        data = stream.read(chunk_size)\n",
    "        frames.append(data)\n",
    "\n",
    "    print(\"Recording finished.\")\n",
    "\n",
    "    stream.stop_stream()\n",
    "    stream.close()\n",
    "    p.terminate()\n",
    "\n",
    "    with wave.open(file_path, 'wb') as wf:\n",
    "        wf.setnchannels(channels)\n",
    "        wf.setsampwidth(pyaudio.PyAudio().get_sample_size(pyaudio.paInt16))\n",
    "        wf.setframerate(sample_rate)\n",
    "        wf.writeframes(b''.join(frames))\n",
    "\n",
    "def play_audio(file_path):\n",
    "    pygame.init()\n",
    "    pygame.mixer.init()\n",
    "\n",
    "    try:\n",
    "        # Load the audio file\n",
    "        pygame.mixer.music.load(file_path)\n",
    "\n",
    "        # Play the audio file\n",
    "        pygame.mixer.music.play()\n",
    "\n",
    "        # Wait for the audio to finish playing\n",
    "        while pygame.mixer.music.get_busy():\n",
    "            pygame.time.Clock().tick(10)\n",
    "\n",
    "    except pygame.error as e:\n",
    "        print(f\"Error playing audio: {e}\")\n",
    "    finally:\n",
    "        # Cleanup\n",
    "        pygame.mixer.quit()\n",
    "        pygame.quit()\n"
   ]
  },
  {
   "cell_type": "code",
   "execution_count": 18,
   "id": "4e65fccf",
   "metadata": {},
   "outputs": [
    {
     "name": "stdout",
     "output_type": "stream",
     "text": [
      "Recording...\n",
      "Recording finished.\n",
      "Audio recorded and saved to recorded_audio.wav\n"
     ]
    }
   ],
   "source": [
    "output_file = \"recorded_audio.wav\"\n",
    "record_duration = 5  # seconds\n",
    "\n",
    "record_audio(output_file, duration=record_duration)\n",
    "print(f\"Audio recorded and saved to {output_file}\")"
   ]
  },
  {
   "cell_type": "code",
   "execution_count": 19,
   "id": "6f325de5",
   "metadata": {},
   "outputs": [],
   "source": [
    "#play record_audio\n",
    "play_audio(\"recorded_audio.wav\")"
   ]
  },
  {
   "cell_type": "code",
   "execution_count": 20,
   "id": "77913511",
   "metadata": {},
   "outputs": [],
   "source": [
    "# input audio:\n",
    "\n",
    "input_audio_path = 'recorded_audio.wav'\n",
    "output_audio_path = 'encrypted_audio.wav'\n",
    "\n",
    "#Alice encrypt input audio by \n",
    "encrypt_audio(input_audio_path, output_audio_path, derive_key_Alice)"
   ]
  },
  {
   "cell_type": "code",
   "execution_count": 21,
   "id": "d0d465f6",
   "metadata": {},
   "outputs": [],
   "source": [
    "play_audio(\"encrypted_audio.wav\")"
   ]
  },
  {
   "cell_type": "code",
   "execution_count": null,
   "id": "e80abfaf",
   "metadata": {},
   "outputs": [],
   "source": []
  }
 ],
 "metadata": {
  "kernelspec": {
   "display_name": "Python 3 (ipykernel)",
   "language": "python",
   "name": "python3"
  },
  "language_info": {
   "codemirror_mode": {
    "name": "ipython",
    "version": 3
   },
   "file_extension": ".py",
   "mimetype": "text/x-python",
   "name": "python",
   "nbconvert_exporter": "python",
   "pygments_lexer": "ipython3",
   "version": "3.11.5"
  }
 },
 "nbformat": 4,
 "nbformat_minor": 5
}
