{
 "cells": [
  {
   "cell_type": "code",
   "execution_count": 4,
   "id": "069a395d",
   "metadata": {},
   "outputs": [],
   "source": [
    "import socket\n",
    "\n",
    "def send_public_paramters_to_Alice(parameter):\n",
    "    server_socket = socket.socket(socket.AF_INET, socket.SOCK_STREAM)\n",
    "    server_address = ('localhost', 12345)\n",
    "    server_socket.bind(server_address)\n",
    "    server_socket.listen(1)\n",
    "\n",
    "    print('Waiting for a connection...')\n",
    "\n",
    "    client_socket, client_address = server_socket.accept()\n",
    "    print('Connected by', client_address)\n",
    "\n",
    "    # Send an integer to the client\n",
    "    \n",
    "    client_socket.sendall(str(parameter).encode('utf-8'))\n",
    "    client_socket.close()\n",
    "    server_socket.close()\n",
    "def read_Aliced_public_key():\n",
    "    client_socket = socket.socket(socket.AF_INET, socket.SOCK_STREAM)\n",
    "    server_address = ('localhost', 1111)\n",
    "    client_socket.connect(server_address)\n",
    "\n",
    "    # Receive data from the server\n",
    "    data = client_socket.recv(1024)\n",
    "    received_integer = int(data.decode('utf-8'))\n",
    "    print('Received integer:', received_integer)\n",
    "    client_socket.close()\n",
    "    return received_integer\n",
    "\n",
    "    \n"
   ]
  },
  {
   "cell_type": "code",
   "execution_count": 1,
   "id": "56878836",
   "metadata": {},
   "outputs": [
    {
     "data": {
      "text/plain": [
       "2044"
      ]
     },
     "execution_count": 1,
     "metadata": {},
     "output_type": "execute_result"
    }
   ],
   "source": [
    "from sympy import randprime\n",
    "\n",
    "def count_digits(number):\n",
    "    # Convert the number to a string and calculate its length\n",
    "    num_str = str(number)\n",
    "    num_digits = len(num_str)\n",
    "    return num_digits\n",
    "\n",
    "# Choose a large prime 'p'\n",
    "\n",
    "p = randprime(2**(1024-1), 2**2048)\n",
    "\n",
    "bin_p=bin(p)\n",
    "count_digits(bin_p)"
   ]
  },
  {
   "cell_type": "code",
   "execution_count": 2,
   "id": "17b83aa6",
   "metadata": {},
   "outputs": [
    {
     "name": "stdout",
     "output_type": "stream",
     "text": [
      " is probably a prime number.\n"
     ]
    }
   ],
   "source": [
    "import random\n",
    "\n",
    "def is_probably_prime(n, k):\n",
    "    if n <= 1:\n",
    "        return False\n",
    "    if n == 2 or n == 3:\n",
    "        return True\n",
    "    if n % 2 == 0:\n",
    "        return False\n",
    "\n",
    "    # Write n as 2^r * d + 1\n",
    "    r, d = 0, n - 1\n",
    "    while d % 2 == 0:\n",
    "        r += 1\n",
    "        d //= 2\n",
    "\n",
    "    # Witness loop\n",
    "    for _ in range(k):\n",
    "        a = random.randint(2, n - 2)\n",
    "        x = pow(a, d, n)\n",
    "\n",
    "        if x == 1 or x == n - 1:\n",
    "            continue\n",
    "\n",
    "        for _ in range(r - 1):\n",
    "            x = pow(x, 2, n)\n",
    "            if x == n - 1:\n",
    "                break\n",
    "        else:\n",
    "            return False\n",
    "\n",
    "    return True\n",
    "rounds_of_testing = 5\n",
    "if is_probably_prime(p, rounds_of_testing):\n",
    "  print(\" is probably a prime number.\")\n",
    "else:\n",
    "  print(\" is composite.\")"
   ]
  },
  {
   "cell_type": "code",
   "execution_count": 5,
   "id": "50fe41e0",
   "metadata": {},
   "outputs": [
    {
     "name": "stdout",
     "output_type": "stream",
     "text": [
      "Waiting for a connection...\n",
      "Connected by ('127.0.0.1', 59642)\n"
     ]
    }
   ],
   "source": [
    "send_public_paramters_to_Alice(p)"
   ]
  },
  {
   "cell_type": "code",
   "execution_count": 6,
   "id": "dfecb2ce",
   "metadata": {},
   "outputs": [],
   "source": [
    "from random import randint\n",
    "g=randint(1,p-2)"
   ]
  },
  {
   "cell_type": "code",
   "execution_count": 7,
   "id": "a0fa6dd3",
   "metadata": {},
   "outputs": [
    {
     "name": "stdout",
     "output_type": "stream",
     "text": [
      "Waiting for a connection...\n",
      "Connected by ('127.0.0.1', 59654)\n"
     ]
    }
   ],
   "source": [
    "send_public_paramters_to_Alice(g)"
   ]
  },
  {
   "cell_type": "code",
   "execution_count": 8,
   "id": "395ce4ee",
   "metadata": {},
   "outputs": [
    {
     "name": "stdout",
     "output_type": "stream",
     "text": [
      "Bob_Private_key:\n",
      " 278708178634332078197021307434229439007510740384625462960473185681070291360168799493493853515541554761205572268183366107093000753665404871330871463153206487027597291071864880467899407002617724153989377084285054039343281151108274100749887968971234339198769302985251803057001167151048497677172040618171446283958649215497824582920342417242543536752084312056087025904558073607796365413944621729148033893209160601204913794194051643523666606581560208778581995128622330460134801590849880592019110653190864431309826806551935599011874773882062752787109212616301048259661581184673450723065249172943018710420866806201829105858\n"
     ]
    }
   ],
   "source": [
    "\n",
    "\n",
    "Bob_private_key = randint(1, p - 2)\n",
    "print(\"Bob_Private_key:\\n\",Bob_private_key)"
   ]
  },
  {
   "cell_type": "code",
   "execution_count": 9,
   "id": "653ea449",
   "metadata": {},
   "outputs": [],
   "source": [
    "def mod_exp(base, exponent, modulus):\n",
    "    result = 1\n",
    "    base = base % modulus\n",
    "    while exponent > 0:\n",
    "        if exponent % 2 == 1:\n",
    "            result = (result * base) % modulus\n",
    "        exponent //= 2\n",
    "        base = (base * base) % modulus\n",
    "    return result"
   ]
  },
  {
   "cell_type": "code",
   "execution_count": 10,
   "id": "6acbda2f",
   "metadata": {},
   "outputs": [
    {
     "name": "stdout",
     "output_type": "stream",
     "text": [
      "Bob_Public_key:\n",
      " 168298997685367008395097801867662741243638445157404000352118129681953067043419100384185821613850039220949900962429248266946518553364346806860600283192310373083885991007120735897612602416636201305163607606574116653665151587562926441308840498491303588365442806578448586063602861835912563890558889971409823459741183638779110505978417871099318835470871935899550735579464884509556318367158883493465423592208542783945834467227868498027891148584137531995819495998570103149033950457059330761580168338620752470396123208666094174183441371866937204085585617761438680345197198592693425475918310761666142318052578072054190102198\n"
     ]
    }
   ],
   "source": [
    "Bob_public_key = mod_exp(g, Bob_private_key, p)\n",
    "print(\"Bob_Public_key:\\n\",Bob_public_key)"
   ]
  },
  {
   "cell_type": "code",
   "execution_count": 12,
   "id": "aad0c62f",
   "metadata": {},
   "outputs": [
    {
     "name": "stdout",
     "output_type": "stream",
     "text": [
      "Waiting for a connection...\n",
      "Connected by ('127.0.0.1', 59672)\n"
     ]
    }
   ],
   "source": [
    "send_public_paramters_to_Alice(Bob_public_key)"
   ]
  },
  {
   "cell_type": "code",
   "execution_count": 11,
   "id": "46634538",
   "metadata": {},
   "outputs": [
    {
     "name": "stdout",
     "output_type": "stream",
     "text": [
      "Received integer: 368225299597812549174064458544612783128930885102784676599754686849002971697252842660972903059956541251520010598538669472617976868947777771905513064476392202482132175854754166765142246137161875121095203069367415397905181797877657030345926282910532887118507080936078372507026786620239301178937139236096225275820878418488195291433217988952772288241027342636979419814003931080553931946175216494322745519410347409871861059227601194887456555204450890345900970391231085818700255848563860348664620046473234237210559286944944455526829103876628334170195889719754585304086122685373106958017348686374912044801087633202032218820\n"
     ]
    }
   ],
   "source": [
    "Alice_public_key=read_Aliced_public_key()"
   ]
  },
  {
   "cell_type": "code",
   "execution_count": 13,
   "id": "8ec9dd5b",
   "metadata": {},
   "outputs": [
    {
     "name": "stdout",
     "output_type": "stream",
     "text": [
      "The common key calculated by Bob:\n",
      " 106440886521381102343979764267298234651776542714289547708750400487236642674157733310828338499790389063086565452234784987186942663985171344344780980417901243261579159881831717138999714120513746508020763425730472500649308460180077330673958936245386297852780826486184927865218037082820923625492056515478185655865241606172603768586775548830479919501542882984839213280813480143772874848772110587767291147042305066419397896176814114004463415778816734007461248375240122556371932342996179406154845374001196904301706703724269280780573980925157947542883617005534504643159237019073822987919078365947237851879552812333397646310\n"
     ]
    }
   ],
   "source": [
    "Bob_common_key = mod_exp(Alice_public_key, Bob_private_key, p)\n",
    "print(\"The common key calculated by Bob:\\n\",Bob_common_key)"
   ]
  },
  {
   "cell_type": "code",
   "execution_count": 14,
   "id": "0421a5e9",
   "metadata": {},
   "outputs": [],
   "source": [
    "#convert common key to bytes\n",
    "Bob_common_key_bytes=Bob_common_key.to_bytes(10000, byteorder='big')"
   ]
  },
  {
   "cell_type": "code",
   "execution_count": 15,
   "id": "ab3372b5",
   "metadata": {},
   "outputs": [],
   "source": [
    "import hashlib\n",
    "\n",
    "def derive_key(original_key, output_length=16):\n",
    "    # Use SHA-256 hash function\n",
    "    sha256 = hashlib.sha256()\n",
    "\n",
    "    # Update the hash object with the original key\n",
    "    sha256.update(original_key)\n",
    "\n",
    "    # Get the digest (hash) and truncate it to the desired length\n",
    "    derived_key = sha256.digest()[:output_length]\n",
    "\n",
    "    return derived_key"
   ]
  },
  {
   "cell_type": "code",
   "execution_count": 16,
   "id": "1a5d4f07",
   "metadata": {},
   "outputs": [
    {
     "data": {
      "text/plain": [
       "b'/\\xe5%\\x86d~\\xcb0\\x0b]\\x05\\xd9\\xff/\\xef\\xfc'"
      ]
     },
     "execution_count": 16,
     "metadata": {},
     "output_type": "execute_result"
    }
   ],
   "source": [
    "#get 16 bytes from common key using hash function\n",
    "\n",
    "Bob_derive_key=derive_key(Bob_common_key_bytes)\n",
    "Bob_derive_key"
   ]
  },
  {
   "cell_type": "code",
   "execution_count": 18,
   "id": "3276c5c3",
   "metadata": {},
   "outputs": [],
   "source": [
    "from cryptography.hazmat.backends import default_backend\n",
    "from cryptography.hazmat.primitives.ciphers import Cipher, algorithms, modes\n",
    "from cryptography.hazmat.primitives import padding\n",
    "from pydub import AudioSegment\n",
    "import os\n",
    "\n",
    "# Set the path to the ffmpeg executable\n",
    "AudioSegment.converter = \"ffmpeg.exe\"\n",
    "\n",
    "def decrypt_audio(input_audio_path, output_audio_path, key):\n",
    "    # Load the encrypted audio file\n",
    "    encrypted_audio = AudioSegment.from_file(input_audio_path)\n",
    "\n",
    "    # Convert audio to raw data (bytearray)\n",
    "    encrypted_data = encrypted_audio.raw_data\n",
    "\n",
    "    # Extract IV from the encrypted data\n",
    "    iv = encrypted_data[:16]\n",
    "    encrypted_data = encrypted_data[16:]\n",
    "\n",
    "    # Create an AES cipher object with the key, mode, and IV\n",
    "    cipher = Cipher(algorithms.AES(key), modes.CFB(iv), backend=default_backend())\n",
    "    decryptor = cipher.decryptor()\n",
    "\n",
    "    # Decrypt the data\n",
    "    decrypted_data = decryptor.update(encrypted_data) + decryptor.finalize()\n",
    "\n",
    "    # Unpad the data\n",
    "    unpadder = padding.PKCS7(algorithms.AES.block_size).unpadder()\n",
    "    audio_data = unpadder.update(decrypted_data) + unpadder.finalize()\n",
    "\n",
    "    # Save the decrypted audio to a new file\n",
    "    decrypted_audio = AudioSegment(audio_data, frame_rate=encrypted_audio.frame_rate, sample_width=encrypted_audio.sample_width, channels=encrypted_audio.channels)\n",
    "    decrypted_audio.export(output_audio_path, format=\"wav\")"
   ]
  },
  {
   "cell_type": "code",
   "execution_count": 19,
   "id": "1eb943d5",
   "metadata": {},
   "outputs": [],
   "source": [
    "encrypted_audio_path = 'encrypted_audio.wav'\n",
    "decrypted_audio_path = 'decrypted_audio.wav'\n",
    "\n",
    "decrypt_audio(encrypted_audio_path, decrypted_audio_path, Bob_derive_key)"
   ]
  },
  {
   "cell_type": "code",
   "execution_count": 20,
   "id": "9f0558de",
   "metadata": {},
   "outputs": [
    {
     "name": "stdout",
     "output_type": "stream",
     "text": [
      "pygame 2.5.2 (SDL 2.28.3, Python 3.11.5)\n",
      "Hello from the pygame community. https://www.pygame.org/contribute.html\n"
     ]
    }
   ],
   "source": [
    "import pygame\n",
    "\n",
    "def play_audio(file_path):\n",
    "    pygame.init()\n",
    "    pygame.mixer.init()\n",
    "\n",
    "    try:\n",
    "        # Load the audio file\n",
    "        pygame.mixer.music.load(file_path)\n",
    "\n",
    "        # Play the audio file\n",
    "        pygame.mixer.music.play()\n",
    "\n",
    "        # Wait for the audio to finish playing\n",
    "        while pygame.mixer.music.get_busy():\n",
    "            pygame.time.Clock().tick(10)\n",
    "\n",
    "    except pygame.error as e:\n",
    "        print(f\"Error playing audio: {e}\")\n",
    "    finally:\n",
    "        # Cleanup\n",
    "        pygame.mixer.quit()\n",
    "        pygame.quit()\n",
    "\n"
   ]
  },
  {
   "cell_type": "code",
   "execution_count": 21,
   "id": "abf7227b",
   "metadata": {},
   "outputs": [],
   "source": [
    "play_audio(\"decrypted_audio.wav\")"
   ]
  },
  {
   "cell_type": "code",
   "execution_count": null,
   "id": "85857aca",
   "metadata": {},
   "outputs": [],
   "source": []
  }
 ],
 "metadata": {
  "kernelspec": {
   "display_name": "Python 3 (ipykernel)",
   "language": "python",
   "name": "python3"
  },
  "language_info": {
   "codemirror_mode": {
    "name": "ipython",
    "version": 3
   },
   "file_extension": ".py",
   "mimetype": "text/x-python",
   "name": "python",
   "nbconvert_exporter": "python",
   "pygments_lexer": "ipython3",
   "version": "3.11.5"
  }
 },
 "nbformat": 4,
 "nbformat_minor": 5
}
