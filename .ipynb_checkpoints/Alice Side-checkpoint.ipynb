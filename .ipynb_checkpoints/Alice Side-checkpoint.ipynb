{
 "cells": [
  {
   "cell_type": "code",
   "execution_count": 3,
   "id": "b6279c44",
   "metadata": {},
   "outputs": [],
   "source": [
    "import socket\n",
    "def read_paramters():\n",
    "    client_socket = socket.socket(socket.AF_INET, socket.SOCK_STREAM)\n",
    "    server_address = ('localhost', 12345)\n",
    "    client_socket.connect(server_address)\n",
    "\n",
    "    # Receive data from the server\n",
    "    data = client_socket.recv(1024)\n",
    "    received_integer = int(data.decode('utf-8'))\n",
    "    print('Received integer:', received_integer)\n",
    "    client_socket.close()\n",
    "    return received_integer\n",
    "def send_public_key(public_key):\n",
    "    server_socket = socket.socket(socket.AF_INET, socket.SOCK_STREAM)\n",
    "    server_address = ('localhost',1111)\n",
    "    server_socket.bind(server_address)\n",
    "    server_socket.listen(1)\n",
    "\n",
    "    print('Waiting for a connection...')\n",
    "\n",
    "    client_socket, client_address = server_socket.accept()\n",
    "    print('Connected by', client_address)\n",
    "\n",
    "    # Send an integer to the client\n",
    "    \n",
    "    client_socket.sendall(str(public_key).encode('utf-8'))\n",
    "    client_socket.close()\n",
    "    server_socket.close()\n",
    "    "
   ]
  },
  {
   "cell_type": "code",
   "execution_count": 4,
   "id": "84bb413b",
   "metadata": {},
   "outputs": [
    {
     "name": "stdout",
     "output_type": "stream",
     "text": [
      "Received integer: 393369146500775437864232846273054727982797667747657168603895386056627823587810953839851269091061597814488000932342709345098454418131749284544575770643752065839790291558432983299521332956881854344291343626316795675672454111130519133015434384968199317717272763327553624964704062810993985435653778465064567145317355188113805778736056714178753207694435624661480599308647320539706513182507987873835255337897343317224481723449011833373981570870352807572776185109259483980892850438203272318287722500359353402661969952229181774177374540518777151740429129617778812851924009029883351855314640492514062543980941886230435608133\n"
     ]
    }
   ],
   "source": [
    "p=read_paramters()"
   ]
  },
  {
   "cell_type": "code",
   "execution_count": 5,
   "id": "9645fa11",
   "metadata": {},
   "outputs": [
    {
     "name": "stdout",
     "output_type": "stream",
     "text": [
      "Received integer: 185542235719464537204868142582432513121340042709202342955125474328188812364344429983116418380102872160345348867514217810302342002591293830054717937361788862504929653320031887400450336660351246363039550935059485358943457139456018384943959987784109633743005635652639381433288023976408028806163041327492257342562840008729066912410899351227270821958749532037263738695242858921385266086423838795065427829368339528213670551214294232363618502779587287604697826305179456174154739520316856750617780685220115904390177098340118786340174886563795692818417101231516975793291958653684932208468130949339204510769847171168138189819\n"
     ]
    }
   ],
   "source": [
    "g=read_paramters()"
   ]
  },
  {
   "cell_type": "code",
   "execution_count": 6,
   "id": "60d64645",
   "metadata": {},
   "outputs": [
    {
     "name": "stdout",
     "output_type": "stream",
     "text": [
      "Alice_Private_key:\n",
      " 20717431700401499331965667645519567123260556709877262816818704748383778976184530982815440301391526021966568054640726805102782763496268505052000398703877861542896249780153911155222665122841194430460582411727344892421053342781396557638460732548188432855636943547169267408050245278269639323118010850148007527149886247283098514606169455617530915219982452793950496356392953202968285268263994493123127095424366362687710001686121114889009887616440310300457000944785625366910694279100585644161576006371543203130694351682979014597175565583614705767047948327196110940897581079780291750641689802525246066001792802479472873536\n"
     ]
    }
   ],
   "source": [
    "from random import randint\n",
    "\n",
    "Alice_private_key = randint(1, p - 2)\n",
    "print(\"Alice_Private_key:\\n\",Alice_private_key)"
   ]
  },
  {
   "cell_type": "code",
   "execution_count": 7,
   "id": "1c80ee8f",
   "metadata": {},
   "outputs": [],
   "source": [
    "def mod_exp(base, exponent, modulus):\n",
    "    result = 1\n",
    "    base = base % modulus\n",
    "    while exponent > 0:\n",
    "        if exponent % 2 == 1:\n",
    "            result = (result * base) % modulus\n",
    "        exponent //= 2\n",
    "        base = (base * base) % modulus\n",
    "    return result"
   ]
  },
  {
   "cell_type": "code",
   "execution_count": 8,
   "id": "26de6d76",
   "metadata": {},
   "outputs": [
    {
     "name": "stdout",
     "output_type": "stream",
     "text": [
      "Alice_Public_key:\n",
      " 368225299597812549174064458544612783128930885102784676599754686849002971697252842660972903059956541251520010598538669472617976868947777771905513064476392202482132175854754166765142246137161875121095203069367415397905181797877657030345926282910532887118507080936078372507026786620239301178937139236096225275820878418488195291433217988952772288241027342636979419814003931080553931946175216494322745519410347409871861059227601194887456555204450890345900970391231085818700255848563860348664620046473234237210559286944944455526829103876628334170195889719754585304086122685373106958017348686374912044801087633202032218820\n"
     ]
    }
   ],
   "source": [
    "Alice_public_key = mod_exp(g, Alice_private_key, p)\n",
    "print(\"Alice_Public_key:\\n\",Alice_public_key)"
   ]
  },
  {
   "cell_type": "code",
   "execution_count": 9,
   "id": "3619602a",
   "metadata": {},
   "outputs": [
    {
     "name": "stdout",
     "output_type": "stream",
     "text": [
      "Waiting for a connection...\n",
      "Connected by ('127.0.0.1', 59664)\n"
     ]
    }
   ],
   "source": [
    "send_public_key(Alice_public_key)"
   ]
  },
  {
   "cell_type": "code",
   "execution_count": 10,
   "id": "628d0cd9",
   "metadata": {},
   "outputs": [
    {
     "name": "stdout",
     "output_type": "stream",
     "text": [
      "Received integer: 168298997685367008395097801867662741243638445157404000352118129681953067043419100384185821613850039220949900962429248266946518553364346806860600283192310373083885991007120735897612602416636201305163607606574116653665151587562926441308840498491303588365442806578448586063602861835912563890558889971409823459741183638779110505978417871099318835470871935899550735579464884509556318367158883493465423592208542783945834467227868498027891148584137531995819495998570103149033950457059330761580168338620752470396123208666094174183441371866937204085585617761438680345197198592693425475918310761666142318052578072054190102198\n"
     ]
    }
   ],
   "source": [
    "bob_public_key=read_paramters()"
   ]
  },
  {
   "cell_type": "code",
   "execution_count": 11,
   "id": "c03c7287",
   "metadata": {
    "scrolled": true
   },
   "outputs": [
    {
     "name": "stdout",
     "output_type": "stream",
     "text": [
      "The common key calculated by Alice:\n",
      " 106440886521381102343979764267298234651776542714289547708750400487236642674157733310828338499790389063086565452234784987186942663985171344344780980417901243261579159881831717138999714120513746508020763425730472500649308460180077330673958936245386297852780826486184927865218037082820923625492056515478185655865241606172603768586775548830479919501542882984839213280813480143772874848772110587767291147042305066419397896176814114004463415778816734007461248375240122556371932342996179406154845374001196904301706703724269280780573980925157947542883617005534504643159237019073822987919078365947237851879552812333397646310\n"
     ]
    }
   ],
   "source": [
    "common_key_Alice = mod_exp(bob_public_key, Alice_private_key, p)\n",
    "print(\"The common key calculated by Alice:\\n\",common_key_Alice)"
   ]
  },
  {
   "cell_type": "code",
   "execution_count": 12,
   "id": "41681c6d",
   "metadata": {},
   "outputs": [],
   "source": [
    "#convert common key to bytes\n",
    "common_key_Alice_bytes=common_key_Alice.to_bytes(10000, byteorder='big')\n"
   ]
  },
  {
   "cell_type": "code",
   "execution_count": 13,
   "id": "471be9a4",
   "metadata": {},
   "outputs": [],
   "source": [
    "import hashlib\n",
    "\n",
    "def derive_key(original_key, output_length=16):\n",
    "    # Use SHA-256 hash function\n",
    "    sha256 = hashlib.sha256()\n",
    "\n",
    "    # Update the hash object with the original key\n",
    "    sha256.update(original_key)\n",
    "\n",
    "    # Get the digest (hash) and truncate it to the desired length\n",
    "    derived_key = sha256.digest()[:output_length]\n",
    "\n",
    "    return derived_key"
   ]
  },
  {
   "cell_type": "code",
   "execution_count": 14,
   "id": "96ca3938",
   "metadata": {},
   "outputs": [
    {
     "data": {
      "text/plain": [
       "b'/\\xe5%\\x86d~\\xcb0\\x0b]\\x05\\xd9\\xff/\\xef\\xfc'"
      ]
     },
     "execution_count": 14,
     "metadata": {},
     "output_type": "execute_result"
    }
   ],
   "source": [
    "#get 16 bytes from common key using hash function\n",
    "\n",
    "derive_key_Alice=derive_key(common_key_Alice_bytes)\n",
    "derive_key_Alice"
   ]
  },
  {
   "cell_type": "code",
   "execution_count": 15,
   "id": "6e043a89",
   "metadata": {},
   "outputs": [
    {
     "name": "stderr",
     "output_type": "stream",
     "text": [
      "C:\\Users\\Husse\\anaconda3\\Lib\\site-packages\\pydub\\utils.py:170: RuntimeWarning: Couldn't find ffmpeg or avconv - defaulting to ffmpeg, but may not work\n",
      "  warn(\"Couldn't find ffmpeg or avconv - defaulting to ffmpeg, but may not work\", RuntimeWarning)\n"
     ]
    }
   ],
   "source": [
    "from cryptography.hazmat.backends import default_backend\n",
    "from cryptography.hazmat.primitives.ciphers import Cipher, algorithms, modes\n",
    "from cryptography.hazmat.primitives import padding\n",
    "from pydub import AudioSegment\n",
    "import os\n",
    "\n",
    "# Set the path to the ffmpeg executable\n",
    "AudioSegment.converter = \"ffmpeg.exe\"\n",
    "\n",
    "def encrypt_audio(input_audio_path, output_audio_path, key):\n",
    "    # Load the audio file\n",
    "    \n",
    "    audio = AudioSegment.from_file(input_audio_path)\n",
    "\n",
    "    # Convert audio to raw data (bytearray)\n",
    "    audio_data = audio.raw_data\n",
    "\n",
    "    # Generate a random IV (Initialization Vector)\n",
    "    iv = os.urandom(16)\n",
    "\n",
    "    # Pad the data using PKCS7 padding\n",
    "    padder = padding.PKCS7(algorithms.AES.block_size).padder()\n",
    "    padded_data = padder.update(audio_data) + padder.finalize()\n",
    "\n",
    "    # Create an AES cipher object with the key, mode, and IV\n",
    "    cipher = Cipher(algorithms.AES(key), modes.CFB(iv), backend=default_backend())\n",
    "    encryptor = cipher.encryptor()\n",
    "\n",
    "    # Encrypt the padded data\n",
    "    encrypted_data = encryptor.update(padded_data) + encryptor.finalize()\n",
    "\n",
    "    # Combine IV and encrypted data\n",
    "    output_data = iv + encrypted_data\n",
    "\n",
    "    # Save the encrypted audio to a new file\n",
    "    encrypted_audio = AudioSegment(output_data, frame_rate=audio.frame_rate, sample_width=audio.sample_width, channels=audio.channels)\n",
    "    encrypted_audio.export(output_audio_path, format=\"wav\")\n"
   ]
  },
  {
   "cell_type": "code",
   "execution_count": 17,
   "id": "ea74edad",
   "metadata": {},
   "outputs": [
    {
     "name": "stdout",
     "output_type": "stream",
     "text": [
      "pygame 2.5.2 (SDL 2.28.3, Python 3.11.5)\n",
      "Hello from the pygame community. https://www.pygame.org/contribute.html\n"
     ]
    }
   ],
   "source": [
    "import pyaudio\n",
    "import wave\n",
    "import pygame\n",
    "\n",
    "\n",
    "def record_audio(file_path, duration=5, sample_rate=44100, channels=1, chunk_size=1024):\n",
    "    p = pyaudio.PyAudio()\n",
    "\n",
    "    stream = p.open(format=pyaudio.paInt16,\n",
    "                    channels=channels,\n",
    "                    rate=sample_rate,\n",
    "                    input=True,\n",
    "                    frames_per_buffer=chunk_size)\n",
    "\n",
    "    print(\"Recording...\")\n",
    "\n",
    "    frames = []\n",
    "\n",
    "    for i in range(0, int(sample_rate / chunk_size * duration)):\n",
    "        data = stream.read(chunk_size)\n",
    "        frames.append(data)\n",
    "\n",
    "    print(\"Recording finished.\")\n",
    "\n",
    "    stream.stop_stream()\n",
    "    stream.close()\n",
    "    p.terminate()\n",
    "\n",
    "    with wave.open(file_path, 'wb') as wf:\n",
    "        wf.setnchannels(channels)\n",
    "        wf.setsampwidth(pyaudio.PyAudio().get_sample_size(pyaudio.paInt16))\n",
    "        wf.setframerate(sample_rate)\n",
    "        wf.writeframes(b''.join(frames))\n",
    "\n",
    "def play_audio(file_path):\n",
    "    pygame.init()\n",
    "    pygame.mixer.init()\n",
    "\n",
    "    try:\n",
    "        # Load the audio file\n",
    "        pygame.mixer.music.load(file_path)\n",
    "\n",
    "        # Play the audio file\n",
    "        pygame.mixer.music.play()\n",
    "\n",
    "        # Wait for the audio to finish playing\n",
    "        while pygame.mixer.music.get_busy():\n",
    "            pygame.time.Clock().tick(10)\n",
    "\n",
    "    except pygame.error as e:\n",
    "        print(f\"Error playing audio: {e}\")\n",
    "    finally:\n",
    "        # Cleanup\n",
    "        pygame.mixer.quit()\n",
    "        pygame.quit()\n"
   ]
  },
  {
   "cell_type": "code",
   "execution_count": 18,
   "id": "4e65fccf",
   "metadata": {},
   "outputs": [
    {
     "name": "stdout",
     "output_type": "stream",
     "text": [
      "Recording...\n",
      "Recording finished.\n",
      "Audio recorded and saved to recorded_audio.wav\n"
     ]
    }
   ],
   "source": [
    "output_file = \"recorded_audio.wav\"\n",
    "record_duration = 5  # seconds\n",
    "\n",
    "record_audio(output_file, duration=record_duration)\n",
    "print(f\"Audio recorded and saved to {output_file}\")"
   ]
  },
  {
   "cell_type": "code",
   "execution_count": 19,
   "id": "6f325de5",
   "metadata": {},
   "outputs": [],
   "source": [
    "#play record_audio\n",
    "play_audio(\"recorded_audio.wav\")"
   ]
  },
  {
   "cell_type": "code",
   "execution_count": 20,
   "id": "77913511",
   "metadata": {},
   "outputs": [],
   "source": [
    "# input audio:\n",
    "\n",
    "input_audio_path = 'recorded_audio.wav'\n",
    "output_audio_path = 'encrypted_audio.wav'\n",
    "\n",
    "#Alice encrypt input audio by \n",
    "encrypt_audio(input_audio_path, output_audio_path, derive_key_Alice)"
   ]
  },
  {
   "cell_type": "code",
   "execution_count": 21,
   "id": "d0d465f6",
   "metadata": {},
   "outputs": [],
   "source": [
    "play_audio(\"encrypted_audio.wav\")"
   ]
  },
  {
   "cell_type": "code",
   "execution_count": null,
   "id": "e80abfaf",
   "metadata": {},
   "outputs": [],
   "source": []
  }
 ],
 "metadata": {
  "kernelspec": {
   "display_name": "Python 3 (ipykernel)",
   "language": "python",
   "name": "python3"
  },
  "language_info": {
   "codemirror_mode": {
    "name": "ipython",
    "version": 3
   },
   "file_extension": ".py",
   "mimetype": "text/x-python",
   "name": "python",
   "nbconvert_exporter": "python",
   "pygments_lexer": "ipython3",
   "version": "3.11.5"
  }
 },
 "nbformat": 4,
 "nbformat_minor": 5
}
